{
 "cells": [
  {
   "cell_type": "markdown",
   "id": "91e269f4",
   "metadata": {},
   "source": [
    "Estrutura de Decisão If"
   ]
  },
  {
   "cell_type": "code",
   "execution_count": 62,
   "id": "8e4c56ca",
   "metadata": {},
   "outputs": [],
   "source": [
    "numero = 4\n",
    "letra = 'C'"
   ]
  },
  {
   "cell_type": "code",
   "execution_count": 52,
   "id": "c3c68018",
   "metadata": {},
   "outputs": [
    {
     "name": "stdout",
     "output_type": "stream",
     "text": [
      "passou\n"
     ]
    }
   ],
   "source": [
    "# O comando if:\n",
    "if numero < 5:\n",
    "    print('Beleza')\n",
    "print('passou')"
   ]
  },
  {
   "cell_type": "code",
   "execution_count": 57,
   "id": "22d3cf10",
   "metadata": {},
   "outputs": [
    {
     "name": "stdout",
     "output_type": "stream",
     "text": [
      "Ok\n"
     ]
    }
   ],
   "source": [
    "# A estrutura if e else:\n",
    "if numero < 5:\n",
    "    print('Ok')\n",
    "else:\n",
    "    print('Não é meno que 5')"
   ]
  },
  {
   "cell_type": "code",
   "execution_count": 64,
   "id": "eaf2053b",
   "metadata": {},
   "outputs": [
    {
     "name": "stdout",
     "output_type": "stream",
     "text": [
      "Não é igual a 5\n",
      "C\n"
     ]
    }
   ],
   "source": [
    "# Os comando if e elif:\n",
    "if numero < 10:\n",
    "    if numero == 5:\n",
    "        print('Ok')\n",
    "    else:\n",
    "        print('Não é igual a 5')\n",
    "else:\n",
    "    print('Não é menor que 10')\n",
    "\n",
    "if letra == 'A':\n",
    "    print('A')\n",
    "elif letra == 'B':\n",
    "    print('B')\n",
    "elif letra == 'C':\n",
    "    print('C')\n",
    "else:\n",
    "    print('Nenhuma das opções')   "
   ]
  },
  {
   "cell_type": "code",
   "execution_count": 68,
   "id": "80bf2a77",
   "metadata": {},
   "outputs": [
    {
     "name": "stdout",
     "output_type": "stream",
     "text": [
      "0\n"
     ]
    }
   ],
   "source": [
    "# if e else como operador ternário (Bônus)\n",
    "\n",
    "numero1 = 8\n",
    "numero_var = 4 if numero1 < 6 else 0\n",
    "print(numero_var)"
   ]
  }
 ],
 "metadata": {
  "kernelspec": {
   "display_name": "Python 3 (ipykernel)",
   "language": "python",
   "name": "python3"
  },
  "language_info": {
   "codemirror_mode": {
    "name": "ipython",
    "version": 3
   },
   "file_extension": ".py",
   "mimetype": "text/x-python",
   "name": "python",
   "nbconvert_exporter": "python",
   "pygments_lexer": "ipython3",
   "version": "3.9.12"
  }
 },
 "nbformat": 4,
 "nbformat_minor": 5
}
