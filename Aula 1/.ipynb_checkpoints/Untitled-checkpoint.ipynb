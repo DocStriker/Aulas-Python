{
 "cells": [
  {
   "cell_type": "markdown",
   "id": "91e269f4",
   "metadata": {},
   "source": [
    "Estrutura de Decisão If"
   ]
  },
  {
   "cell_type": "code",
   "execution_count": null,
   "id": "c3c68018",
   "metadata": {},
   "outputs": [],
   "source": [
    "# O comando if:"
   ]
  },
  {
   "cell_type": "code",
   "execution_count": null,
   "id": "22d3cf10",
   "metadata": {},
   "outputs": [],
   "source": [
    "# A estrutura if e else:"
   ]
  },
  {
   "cell_type": "code",
   "execution_count": null,
   "id": "eaf2053b",
   "metadata": {},
   "outputs": [],
   "source": [
    "# Os comando if e elif:"
   ]
  },
  {
   "cell_type": "code",
   "execution_count": null,
   "id": "80bf2a77",
   "metadata": {},
   "outputs": [],
   "source": [
    "# if e else como operador ternário (Bônus)"
   ]
  }
 ],
 "metadata": {
  "kernelspec": {
   "display_name": "Python 3 (ipykernel)",
   "language": "python",
   "name": "python3"
  },
  "language_info": {
   "codemirror_mode": {
    "name": "ipython",
    "version": 3
   },
   "file_extension": ".py",
   "mimetype": "text/x-python",
   "name": "python",
   "nbconvert_exporter": "python",
   "pygments_lexer": "ipython3",
   "version": "3.9.12"
  }
 },
 "nbformat": 4,
 "nbformat_minor": 5
}
